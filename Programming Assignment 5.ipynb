{
 "cells": [
  {
   "cell_type": "markdown",
   "metadata": {},
   "source": [
    "### Programming Assignment 5"
   ]
  },
  {
   "cell_type": "code",
   "execution_count": 1,
   "metadata": {},
   "outputs": [
    {
     "name": "stdout",
     "output_type": "stream",
     "text": [
      "Enter First Number 3\n",
      "Enter Second Number 4\n",
      "12\n"
     ]
    }
   ],
   "source": [
    "# 1.\tWrite a Python Program to Find LCM?\n",
    "a = int(input(\"Enter First Number \"))\n",
    "b = int(input(\"Enter Second Number \"))\n",
    "        \n",
    "if a > b:\n",
    "    max = a\n",
    "else:\n",
    "    max = b\n",
    " \n",
    "while True:\n",
    "    if (max % a == 0 and max % b == 0):\n",
    "        print(max)\n",
    "        break\n",
    "    max += 1    "
   ]
  },
  {
   "cell_type": "code",
   "execution_count": 2,
   "metadata": {},
   "outputs": [
    {
     "name": "stdout",
     "output_type": "stream",
     "text": [
      "Enter First Number 60\n",
      "Enter Second Number 84\n",
      "12\n"
     ]
    }
   ],
   "source": [
    "# 2.\tWrite a Python Program to Find HCF?\n",
    "a = int(input(\"Enter First Number \"))\n",
    "b = int(input(\"Enter Second Number \"))\n",
    "        \n",
    "if a > b:\n",
    "    max = a\n",
    "else:\n",
    "    max = b\n",
    " \n",
    "while True:\n",
    "    if ( a % max == 0 and b % max == 0):\n",
    "        print(max)\n",
    "        break\n",
    "    max -= 1   "
   ]
  },
  {
   "cell_type": "code",
   "execution_count": 3,
   "metadata": {},
   "outputs": [
    {
     "name": "stdout",
     "output_type": "stream",
     "text": [
      "0b1010\n",
      "0o12\n",
      "0xa\n"
     ]
    }
   ],
   "source": [
    "# 3.\tWrite a Python Program to Convert Decimal to Binary, Octal and Hexadecimal?\n",
    "a = 10\n",
    "print(bin(a))\n",
    "print(oct(a))\n",
    "print(hex(a))"
   ]
  },
  {
   "cell_type": "code",
   "execution_count": 4,
   "metadata": {},
   "outputs": [
    {
     "name": "stdout",
     "output_type": "stream",
     "text": [
      "ASCII value for Character a is  97\n",
      "ASCII value for Character b is  98\n",
      "ASCII value for Character c is  99\n",
      "ASCII value for Character d is  100\n",
      "ASCII value for Character e is  101\n"
     ]
    }
   ],
   "source": [
    "# 4.\tWrite a Python Program To Find ASCII value of a character?\n",
    "char = 'abcde'\n",
    "for i in char:\n",
    "    print(f\"ASCII value for Character {i} is \", ord(i))\n",
    "    "
   ]
  },
  {
   "cell_type": "code",
   "execution_count": 5,
   "metadata": {},
   "outputs": [
    {
     "name": "stdout",
     "output_type": "stream",
     "text": [
      "Enter First Number 3\n",
      "Enter Second Number 4\n",
      "Addition 7\n",
      "Substraction -1\n",
      "Multiplication 12\n",
      "Division 0.75\n"
     ]
    }
   ],
   "source": [
    "# 5.\tWrite a Python Program to Make a Simple Calculator with 4 basic mathematical operations?\n",
    "a = int(input(\"Enter First Number \"))\n",
    "b = int(input(\"Enter Second Number \"))\n",
    "print(\"Addition\",a + b)\n",
    "print(\"Substraction\",a - b)\n",
    "print(\"Multiplication\",a * b)\n",
    "print(\"Division\",a / b)"
   ]
  }
 ],
 "metadata": {
  "kernelspec": {
   "display_name": "Python 3",
   "language": "python",
   "name": "python3"
  },
  "language_info": {
   "codemirror_mode": {
    "name": "ipython",
    "version": 3
   },
   "file_extension": ".py",
   "mimetype": "text/x-python",
   "name": "python",
   "nbconvert_exporter": "python",
   "pygments_lexer": "ipython3",
   "version": "3.7.3"
  }
 },
 "nbformat": 4,
 "nbformat_minor": 4
}
