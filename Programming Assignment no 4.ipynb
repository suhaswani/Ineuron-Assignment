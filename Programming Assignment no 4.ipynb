{
 "cells": [
  {
   "cell_type": "markdown",
   "metadata": {},
   "source": [
    "### Programming Assignment 4"
   ]
  },
  {
   "cell_type": "code",
   "execution_count": 1,
   "metadata": {},
   "outputs": [
    {
     "name": "stdout",
     "output_type": "stream",
     "text": [
      "Enter Number2\n",
      "2\n"
     ]
    }
   ],
   "source": [
    "# 1.\tWrite a Python Program to Find the Factorial of a Number?\n",
    "n = int(input(\"Enter Number \"))\n",
    "f = 1\n",
    "for i in range(1, n+1):\n",
    "    f *= i\n",
    "print(f)    "
   ]
  },
  {
   "cell_type": "code",
   "execution_count": 2,
   "metadata": {},
   "outputs": [
    {
     "name": "stdout",
     "output_type": "stream",
     "text": [
      "Enter Number for which you want Table 3\n",
      "3\n",
      "6\n",
      "9\n",
      "12\n",
      "15\n",
      "18\n",
      "21\n",
      "24\n",
      "27\n",
      "30\n"
     ]
    }
   ],
   "source": [
    "# 2.\tWrite a Python Program to Display the multiplication Table?\n",
    "n = int(input(\"Enter Number for which you want Table \"))\n",
    "for i in range(1,11):\n",
    "    print(i * n)"
   ]
  },
  {
   "cell_type": "code",
   "execution_count": 3,
   "metadata": {},
   "outputs": [
    {
     "name": "stdout",
     "output_type": "stream",
     "text": [
      "Enter Number4\n",
      "0\n",
      "1\n",
      "3\n",
      "6\n",
      "10\n"
     ]
    }
   ],
   "source": [
    "# 3.\tWrite a Python Program to Print the Fibonacci sequence?\n",
    "n = int(input(\"Enter Number \"))\n",
    "f = 0\n",
    "for i in range(0, n+1):\n",
    "    f += i\n",
    "    print(f)"
   ]
  },
  {
   "cell_type": "code",
   "execution_count": 4,
   "metadata": {
    "scrolled": true
   },
   "outputs": [
    {
     "name": "stdout",
     "output_type": "stream",
     "text": [
      "Enter Number5\n",
      "Not a Armstrong number\n"
     ]
    }
   ],
   "source": [
    "# 4.\tWrite a Python Program to Check Armstrong Number?\n",
    "n = input(\"Enter Number \")\n",
    "a = 0\n",
    "flag = False\n",
    "for i in n:\n",
    "    a += int(i)**3\n",
    "    if a == int(n):\n",
    "        flag = True\n",
    "    \n",
    "if flag:\n",
    "    print(\"Armstrong Number\")\n",
    "else:    \n",
    "    print(\"Not a Armstrong number\")"
   ]
  },
  {
   "cell_type": "code",
   "execution_count": 5,
   "metadata": {},
   "outputs": [
    {
     "name": "stdout",
     "output_type": "stream",
     "text": [
      "0\n",
      "1\n",
      "153\n",
      "370\n",
      "371\n",
      "407\n"
     ]
    }
   ],
   "source": [
    "# 5.\tWrite a Python Program to Find Armstrong Number in an Interval?\n",
    "for p in range(0,10000):\n",
    "  n = str(p)\n",
    "  a = 0\n",
    "  flag = False\n",
    "  for i in n:\n",
    "      a += int(i)**3\n",
    "      if a == int(n):\n",
    "          flag = True\n",
    "      \n",
    "  if flag:\n",
    "      print(n)"
   ]
  },
  {
   "cell_type": "code",
   "execution_count": 6,
   "metadata": {},
   "outputs": [
    {
     "name": "stdout",
     "output_type": "stream",
     "text": [
      "Enter Number6\n",
      "21\n"
     ]
    }
   ],
   "source": [
    "# 6.\tWrite a Python Program to Find the Sum of Natural Numbers?\n",
    "n = int(input(\"Enter Number \"))\n",
    "a = 0\n",
    "for i in range(1, n+1):\n",
    "    a += i\n",
    "print(a)    "
   ]
  }
 ],
 "metadata": {
  "kernelspec": {
   "display_name": "Python 3",
   "language": "python",
   "name": "python3"
  },
  "language_info": {
   "codemirror_mode": {
    "name": "ipython",
    "version": 3
   },
   "file_extension": ".py",
   "mimetype": "text/x-python",
   "name": "python",
   "nbconvert_exporter": "python",
   "pygments_lexer": "ipython3",
   "version": "3.7.3"
  }
 },
 "nbformat": 4,
 "nbformat_minor": 4
}
