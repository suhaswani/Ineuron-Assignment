{
 "cells": [
  {
   "cell_type": "code",
   "execution_count": null,
   "metadata": {},
   "outputs": [],
   "source": [
    "1. What are escape characters, and how do you use them?\n",
    "Ans --> \n",
    "Code    Result\n",
    "\\'     Single Quote\n",
    "\\\\     Backslash\n",
    "\\n     New Line\n",
    "\\r     Carriage Return\n",
    "\\t     Tab\n",
    "\\b     Backspace\n",
    "\\f     Form Feed\n",
    "\\ooo   Octal value\n",
    "\\xhh   Hex value"
   ]
  },
  {
   "cell_type": "code",
   "execution_count": null,
   "metadata": {},
   "outputs": [],
   "source": [
    "2. What do the escape characters n and t stand for?\n",
    "Ans --> \\n character is used to escape Newline\n",
    "        \\t character is used to escape Tab"
   ]
  },
  {
   "cell_type": "code",
   "execution_count": null,
   "metadata": {},
   "outputs": [],
   "source": [
    "3. What is the way to include backslash characters in a string?\n",
    "Ans --> Simply to escape a backslash we use '\\\\' character.\n",
    "e.g : \n",
    "a = 'C:\\Users\\HP\\Desktop\\iNeuron Assignment\\theory basic assignment'\n",
    "\n",
    "To include Backslash simply add a backslash before or after each backslash like\n",
    "a = 'C:\\\\Users\\\\HP\\\\Desktop\\\\iNeuron Assignment\\\\theory basic assignment'   "
   ]
  },
  {
   "cell_type": "code",
   "execution_count": null,
   "metadata": {},
   "outputs": [],
   "source": [
    "4. The string \"Howl's Moving Castle\" is a correct value. Why isn't the single quote character in the word Howl's not escaped a problem?\n",
    "Ans --> Because String is enclose within double quotes and \"howl's\" contain single quote. If howls word contain double quote(\"howl\"s)then it throws invalid syntax error "
   ]
  },
  {
   "cell_type": "code",
   "execution_count": null,
   "metadata": {},
   "outputs": [],
   "source": [
    "5. How do you write a string of newlines if you don't want to use the n character?\n",
    "Ans --> By using print function we can wrrite a string of newlines."
   ]
  },
  {
   "cell_type": "code",
   "execution_count": null,
   "metadata": {},
   "outputs": [],
   "source": [
    "6. What are the values of the given expressions?\n",
    "'Hello, world!'[1]    --> 'e'\n",
    "'Hello, world!'[0:5]  --> 'Hello'\n",
    "'Hello, world!'[:5]   --> 'Hello'\n",
    "'Hello, world!'[3:]   --> 'lo, world!'"
   ]
  },
  {
   "cell_type": "code",
   "execution_count": null,
   "metadata": {},
   "outputs": [],
   "source": [
    "7. What are the values of the following expressions?\n",
    "'Hello'.upper()             --> 'HELLO'\n",
    "'Hello'.upper().isupper()   --> True\n",
    "'Hello'.upper().lower()     --> False   \n"
   ]
  },
  {
   "cell_type": "code",
   "execution_count": null,
   "metadata": {},
   "outputs": [],
   "source": [
    "8. What are the values of the following expressions?\n",
    "'Remember, remember, the fifth of July.'.split()\n",
    "Ans --> ['Remember,', 'remember,', 'the', 'fifth', 'of', 'July.']\n",
    "\n",
    "'-'.join('There can only one.'.split())\n",
    "Ans --> 'There-can-only-one.'"
   ]
  },
  {
   "cell_type": "code",
   "execution_count": null,
   "metadata": {},
   "outputs": [],
   "source": [
    "9. What are the methods for right-justifying, left-justifying, and centering a string?\n",
    "Ans --> rjust for right-justifying\n",
    "         syntax : str.rjust(spaces, width[, fillchar])\n",
    "        \n",
    "        ljust for left-justifying\n",
    "         syntax : str.ljust(spaces, width[, fillchar])\n",
    "        \n",
    "        center for centering\n",
    "        syntax : str.center(spaces, width[, fillchar])"
   ]
  },
  {
   "cell_type": "code",
   "execution_count": null,
   "metadata": {},
   "outputs": [],
   "source": [
    "10. What is the best way to remove whitespace characters from the start or end?\n",
    "Ans --> Python str provide strip() method to remove whitespace characters from the start or end"
   ]
  }
 ],
 "metadata": {
  "kernelspec": {
   "display_name": "Python 3",
   "language": "python",
   "name": "python3"
  },
  "language_info": {
   "codemirror_mode": {
    "name": "ipython",
    "version": 3
   },
   "file_extension": ".py",
   "mimetype": "text/x-python",
   "name": "python",
   "nbconvert_exporter": "python",
   "pygments_lexer": "ipython3",
   "version": "3.7.3"
  }
 },
 "nbformat": 4,
 "nbformat_minor": 4
}
